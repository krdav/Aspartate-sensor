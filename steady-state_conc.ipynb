{
 "cells": [
  {
   "cell_type": "code",
   "execution_count": 1,
   "metadata": {},
   "outputs": [],
   "source": [
    "import sys, os, re, copy\n",
    "import dill as pickle # this serializes all the functions inside the quantification dict\n",
    "import numpy as np\n",
    "import scipy as sp\n",
    "from natsort import natsorted\n",
    "from scipy.optimize import newton, minimize, fsolve\n",
    "import pandas as pd\n",
    "import matplotlib.pyplot as plt\n",
    "from matplotlib.backends.backend_pdf import PdfPages\n",
    "import matplotlib.colors as mcolors\n",
    "import matplotlib.ticker as tck\n",
    "from matplotlib.gridspec import GridSpec\n",
    "palette = list(mcolors.TABLEAU_COLORS.keys())\n",
    "%matplotlib inline\n",
    "import seaborn as sns\n",
    "sns.set_style(\"whitegrid\", {\n",
    " 'axes.spines.bottom': True,\n",
    " 'axes.spines.left': True,\n",
    " 'axes.spines.right': True,\n",
    " 'axes.spines.top': True\n",
    "})\n",
    "sns.set(font_scale=1)\n",
    "palette = list(mcolors.TABLEAU_COLORS.keys())\n",
    "#sns.set_theme(style=\"ticks\", palette=\"muted\")\n",
    "sns.set_style(\"whitegrid\")\n",
    "sns.set_theme(style=\"ticks\", palette=\"muted\")\n",
    "sns.set_context(\"notebook\", font_scale=1.5)"
   ]
  },
  {
   "cell_type": "code",
   "execution_count": null,
   "metadata": {},
   "outputs": [],
   "source": []
  },
  {
   "cell_type": "code",
   "execution_count": 2,
   "metadata": {},
   "outputs": [],
   "source": [
    "def impute_conc(piece_wise_fit_metab, response_ratio):\n",
    "    '''\n",
    "    This function imputes the concentration from a response ratio.\n",
    "    '''\n",
    "    response_ratio_range = np.array(list(piece_wise_fit_metab.keys()))\n",
    "    mask_range = [response_ratio >= min_v and response_ratio <= max_v for max_v, min_v in response_ratio_range]\n",
    "    k = tuple(response_ratio_range[mask_range][0])\n",
    "    conc = piece_wise_fit_metab[k](response_ratio)\n",
    "    estimator = 'intrapolation'\n",
    "    if 0 in k:\n",
    "        estimator = 'extrapolation under'\n",
    "    elif np.inf in k:\n",
    "        estimator = 'extrapolation over'\n",
    "    return(conc, estimator)"
   ]
  },
  {
   "cell_type": "code",
   "execution_count": null,
   "metadata": {},
   "outputs": [],
   "source": []
  },
  {
   "cell_type": "markdown",
   "metadata": {},
   "source": [
    "# Calculate metabolite concentrations and merge with Asp-sensor signal"
   ]
  },
  {
   "cell_type": "code",
   "execution_count": 3,
   "metadata": {},
   "outputs": [],
   "source": [
    "### Read quantification function ###\n",
    "dict_pickle_fnam = 'AA_quant-dict.pickle'\n",
    "with open(dict_pickle_fnam, 'rb') as handle:\n",
    "    piece_wise_fit_quant = pickle.load(handle)"
   ]
  },
  {
   "cell_type": "code",
   "execution_count": 4,
   "metadata": {},
   "outputs": [],
   "source": [
    "### Read measurements ###\n",
    "### Replace all N/F with 0 before start ###\n",
    "esheet_dict_mes = pd.read_excel('Asp-sens_steady-state_LCMS.xlsx', sheet_name=None)\n",
    "annotation_df = pd.read_excel('Asp-sens_steady-state_LCMS-annotations.xlsx')\n",
    "metab_dict_mes = dict()\n",
    "metab_names_mes = list()\n",
    "for k in esheet_dict_mes.keys():\n",
    "    if 'U-13C' not in k:\n",
    "        metab_names_mes.append(k)\n",
    "        metab_dict_mes[k] = copy.deepcopy(esheet_dict_mes[k])\n",
    "        metab_dict_mes[k]['Response Ratio'] = metab_dict_mes[k]['Area'] / metab_dict_mes[k]['ISTD Response']\n",
    "        metab_dict_mes[k]['Response Ratio'] = metab_dict_mes[k]['Response Ratio'].fillna(0).replace(np.inf, 0)\n",
    "        metab_dict_mes[k]['Sample_name'] = [fn.split('_')[-1] for fn in metab_dict_mes[k]['Filename']]\n",
    "        # Add annotations:\n",
    "        metab_dict_mes[k] = metab_dict_mes[k].merge(annotation_df, left_on='Filename', right_on='Filename')\n",
    "        metab_dict_mes[k] = metab_dict_mes[k].drop(['Flag Details', 'Filename', 'Type', 'RT', 'Sample ID'], axis=1)"
   ]
  },
  {
   "cell_type": "code",
   "execution_count": 5,
   "metadata": {},
   "outputs": [],
   "source": [
    "### Impute concentration and add to metabolite dataframe ###\n",
    "rr_mes = dict() # for plotting \n",
    "imp_conc_mes = dict() # for plotting\n",
    "for metab in metab_names_mes[:]:\n",
    "    # Assign imputed concentration:\n",
    "    if metab in piece_wise_fit_quant:\n",
    "        conc_list = list()\n",
    "        estimator_list = list()\n",
    "        for rr in metab_dict_mes[metab]['Response Ratio'].values:\n",
    "            conc, estimator = impute_conc(piece_wise_fit_quant[metab], rr)\n",
    "            conc_list.append(conc)\n",
    "            estimator_list.append(estimator)\n",
    "        metab_dict_mes[metab]['imputed_sample_conc'] = conc_list\n",
    "        metab_dict_mes[metab]['imputed_sample_conc'] = metab_dict_mes[metab]['imputed_sample_conc'] / metab_dict_mes[metab]['dilution']\n",
    "        metab_dict_mes[metab]['imputed_sample_estimator'] = estimator_list"
   ]
  },
  {
   "cell_type": "code",
   "execution_count": 6,
   "metadata": {},
   "outputs": [],
   "source": [
    "# Generate dataframe for concentrations and estimtors:\n",
    "print_cols = ['Sample_name', 'Cell line', 'Drug', 'Conc (nM)', 'Rescue', 'IC_well', 'GFP', 'RFP', 'GFP/RFP']\n",
    "conc_df = metab_dict_mes['Glutamine pos'].loc[:, print_cols]\n",
    "est_df = metab_dict_mes['Glutamine pos'].loc[:, print_cols]\n",
    "\n",
    "for metab_nam in metab_dict_mes:\n",
    "    if 'imputed_sample_conc' in metab_dict_mes[metab_nam].columns:\n",
    "        conc_df = conc_df.merge(metab_dict_mes[metab_nam].loc[:, ['Sample_name', 'imputed_sample_conc']], on='Sample_name')\n",
    "        conc_df = conc_df.rename(columns={'imputed_sample_conc': metab_nam})\n",
    "        est_df = est_df.merge(metab_dict_mes[metab_nam].loc[:, ['Sample_name', 'imputed_sample_estimator']], on='Sample_name')\n",
    "        est_df = est_df.rename(columns={'imputed_sample_estimator': metab_nam})\n",
    "    elif sum(metab_dict_mes[metab_nam]['Response Ratio']) > 0:\n",
    "        conc_df = conc_df.merge(metab_dict_mes[metab_nam].loc[:, ['Sample_name', 'Response Ratio']], on='Sample_name')\n",
    "        conc_df = conc_df.rename(columns={'Response Ratio': metab_nam})\n",
    "        est_df[metab_nam] = 'Response Ratio'\n",
    "    else:\n",
    "        conc_df = conc_df.merge(metab_dict_mes[metab_nam].loc[:, ['Sample_name', 'Area']], on='Sample_name')\n",
    "        conc_df = conc_df.rename(columns={'Area': metab_nam})\n",
    "        est_df[metab_nam] = 'Peak area'\n",
    "\n",
    "# Write to Excel file:\n",
    "with pd.ExcelWriter('Asp-sens_steady-state_LCMS_conc.xlsx') as writer:  \n",
    "    conc_df.to_excel(writer, sheet_name='metab')\n",
    "    est_df.to_excel(writer, sheet_name='estimator')"
   ]
  },
  {
   "cell_type": "code",
   "execution_count": null,
   "metadata": {},
   "outputs": [],
   "source": []
  },
  {
   "cell_type": "code",
   "execution_count": null,
   "metadata": {},
   "outputs": [],
   "source": []
  },
  {
   "cell_type": "markdown",
   "metadata": {},
   "source": [
    "# Plot relationship between LCMS measured metabolite concentration and Asp-sensor signal"
   ]
  },
  {
   "cell_type": "code",
   "execution_count": 7,
   "metadata": {},
   "outputs": [],
   "source": [
    "### Sigmoidal fit of the Asp-sensor signal \n",
    "### as a function of absolute Asp concentration\n",
    "def sig_fit(x, top, midpoint, bottom, slope):\n",
    "    return(top + (bottom - top) / (1 + (x / midpoint)**slope))\n",
    "\n",
    "def x_XX(top, midpoint, bottom, slope, XX):\n",
    "    yXX = (top - bottom)*(100-XX)/100 + bottom\n",
    "    mid = (midpoint * ((top - yXX) / (yXX - bottom))**(1.0 / slope))\n",
    "    return(mid)\n",
    "\n",
    "def sig_fit_loss(mes_y, x, p):\n",
    "    pred_y = sig_fit(x, p[0], p[1], p[2], p[3])\n",
    "    return(sum((mes_y-pred_y)**2))\n",
    "\n",
    "def fit_sigmoid(x, y , percentiles, Ngrid, max_top):\n",
    "    bnds = ((0, max_top), (0, None), (0, None), (0, None))\n",
    "    def fun_sig_fit(p): return(sig_fit_loss(y, x, p))\n",
    "    p_sig_fit = minimize(fun_sig_fit, (10, 0, 5, 1), method='L-BFGS-B', bounds=bnds)\n",
    "    top, midpoint, bottom, slope = p_sig_fit.x\n",
    "\n",
    "    x_lower = x_XX(top, midpoint, bottom, slope, percentiles[0])\n",
    "    x_upper = x_XX(top, midpoint, bottom, slope, percentiles[1])\n",
    "    x_sig = np.linspace(x_lower, x_upper, Ngrid)\n",
    "    y_sig = sig_fit(x_sig, p_sig_fit.x[0], p_sig_fit.x[1], p_sig_fit.x[2], p_sig_fit.x[3])\n",
    "    x50 = x_XX(top, midpoint, bottom, slope, 50)\n",
    "    \n",
    "    return(x_sig, y_sig, x50, bottom, top)\n",
    "\n",
    "def plot_sigmoid(x, y, ax1, max_top=None, percentile=(1, 99)):\n",
    "    x_sig, y_sig, x50, bottom, top = fit_sigmoid(x, y, percentile, 1000, max_top)\n",
    "    ax1.plot(10**x_sig, y_sig)\n",
    "    ax1.vlines(10**x50, bottom, top, ls='--', color='r')\n",
    "    halfmax = round(10**x50)\n",
    "    anno_str = 'Asp half-max\\n{} $\\mu$M'.format(halfmax)\n",
    "    props = dict(boxstyle='round', facecolor='red', alpha=0.4)\n",
    "    ax1.text(0.5, 0.4, anno_str, transform=ax1.transAxes, fontsize=14,\n",
    "             verticalalignment='top', bbox=props)\n"
   ]
  },
  {
   "cell_type": "code",
   "execution_count": null,
   "metadata": {},
   "outputs": [],
   "source": []
  },
  {
   "cell_type": "code",
   "execution_count": 8,
   "metadata": {},
   "outputs": [],
   "source": [
    "conc_df['conc_res'] = ['{} + {}'.format(c, r) if r != 'None' else '{}'.format(c) for c, r in zip(conc_df['Conc (nM)'], conc_df['Rescue'])]\n",
    "\n",
    "conc_res = list()\n",
    "for c, r in zip(conc_df['Conc (nM)'], conc_df['Rescue']):\n",
    "    if int(c) == c:\n",
    "        c = int(c)\n",
    "        \n",
    "    if r == 'None':\n",
    "        conc_res.append('{}'.format(c))\n",
    "    else:\n",
    "        if 'pyr' in r.lower():\n",
    "            conc_res.append('{} + Pyr'.format(c, r))\n",
    "        else:\n",
    "            conc_res.append('{} + {}'.format(c, r))\n",
    "\n",
    "conc_df['conc_res'] = conc_res"
   ]
  },
  {
   "cell_type": "code",
   "execution_count": null,
   "metadata": {},
   "outputs": [],
   "source": []
  },
  {
   "cell_type": "code",
   "execution_count": null,
   "metadata": {},
   "outputs": [],
   "source": []
  },
  {
   "cell_type": "markdown",
   "metadata": {},
   "source": [
    "### Plots for 293t"
   ]
  },
  {
   "cell_type": "code",
   "execution_count": 9,
   "metadata": {},
   "outputs": [],
   "source": [
    "mask = conc_df['Cell line'] == '293t Asp-sens-RFP'\n",
    "plot_order = natsorted(conc_df.loc[mask, 'conc_res'])\n",
    "\n",
    "metab_list = ['Aspartate neg', 'Asparagine pos', 'Glutamate neg', 'Glutamine pos', 'Rotenone pos']\n",
    "with PdfPages('steady-state_plots/steady-state_293t_Asp-sens-RFP.pdf') as pp:\n",
    "    for metab in metab_list:\n",
    "        metab_nam = metab.split()[0]\n",
    "        fig, ax1 = plt.subplots(1, 1, figsize=(4, 3))\n",
    "        \n",
    "        if metab_nam == 'Aspartate':\n",
    "            y = conc_df.loc[mask, 'GFP/RFP']\n",
    "            x = np.log10(conc_df.loc[mask, 'Aspartate neg'])\n",
    "            plot_sigmoid(x, y, ax1, max_top=max(y)*1.2)\n",
    "        else:\n",
    "            g1 = sns.regplot(ax=ax1, data=conc_df[mask], y='GFP/RFP', x=metab, lowess=True, scatter_kws=dict(alpha=0))\n",
    "\n",
    "        g2 = sns.scatterplot(ax=ax1, data=conc_df[mask], y='GFP/RFP', x=metab, hue='conc_res', zorder=10, alpha=0.8, edgecolor='black', linewidth=0.7, legend=True);\n",
    "        g2.set_xscale('log', base=10)\n",
    "        g2.set_ylabel('GFP/RFP (AU)')\n",
    "        g2.set_xlabel('{} (µM)'.format(metab_nam))\n",
    "        g2.set_title('293t Asp-sens-RFP')\n",
    "        #g2.set_xticklabels(g1.get_xticklabels(), rotation=90, size=12)\n",
    "        sns.move_legend(g2, \"upper left\", bbox_to_anchor=(1.01, 1), frameon=True, ncol=1, \\\n",
    "                        alignment='center', labelspacing=0.3, handletextpad=0.2, borderaxespad=0, \\\n",
    "                        handlelength=1, title='Rot (nM)')\n",
    "\n",
    "        ax1.tick_params(which=\"both\", bottom=True, labelrotation=25)\n",
    "        pp.savefig(fig, bbox_inches='tight')\n",
    "        plt.close(fig)"
   ]
  },
  {
   "cell_type": "code",
   "execution_count": null,
   "metadata": {},
   "outputs": [],
   "source": []
  },
  {
   "cell_type": "code",
   "execution_count": null,
   "metadata": {},
   "outputs": [],
   "source": []
  },
  {
   "cell_type": "markdown",
   "metadata": {},
   "source": [
    "### Plots for HT1080"
   ]
  },
  {
   "cell_type": "code",
   "execution_count": 10,
   "metadata": {},
   "outputs": [
    {
     "name": "stderr",
     "output_type": "stream",
     "text": [
      "/Users/krdav/anaconda3/lib/python3.8/site-packages/statsmodels/nonparametric/smoothers_lowess.py:227: RuntimeWarning: invalid value encountered in divide\n",
      "  res, _ = _lowess(y, x, x, np.ones_like(x),\n",
      "<ipython-input-10-9ef3c385cbc7>:42: UserWarning: Data has no positive values, and therefore cannot be log-scaled.\n",
      "  ax1.set_xscale('log', base=10)\n"
     ]
    }
   ],
   "source": [
    "mask = conc_df['Cell line'] == 'HT1080 Nuc-RFP Asp-sens'\n",
    "plot_order = natsorted(conc_df.loc[mask, 'conc_res'])\n",
    "\n",
    "metab_list = ['Aspartate neg', 'Asparagine pos', 'Glutamate neg', 'Glutamine pos', 'Rotenone pos', 'Metformin pos']\n",
    "with PdfPages('steady-state_plots/steady-state_HT1080_Nuc-RFP_Asp-sens.pdf') as pp:\n",
    "    for metab in metab_list:\n",
    "        metab_nam = metab.split()[0]\n",
    "        for drug in ['rot', 'met', 'both']:\n",
    "            fig, ax1 = plt.subplots(1, 1, figsize=(4, 3))\n",
    "            mask_rot = mask & (conc_df['Drug'] == 'Rotenone')\n",
    "            mask_met = mask & (conc_df['Drug'] == 'Metformin')\n",
    "\n",
    "            if drug == 'both':\n",
    "                if metab_nam == 'Aspartate':\n",
    "                    y = conc_df.loc[mask, 'GFP/RFP']\n",
    "                    x = np.log10(conc_df.loc[mask, 'Aspartate neg'])\n",
    "                    plot_sigmoid(x, y, ax1, max_top=max(y)*1.2)\n",
    "                else:\n",
    "                    g1 = sns.regplot(ax=ax1, data=conc_df[mask], y='GFP/RFP', x=metab, lowess=True, scatter_kws=dict(alpha=0))\n",
    "            elif drug == 'rot':\n",
    "                if metab_nam == 'Aspartate':\n",
    "                    y = conc_df.loc[mask_rot, 'GFP/RFP']\n",
    "                    x = np.log10(conc_df.loc[mask_rot, 'Aspartate neg'])\n",
    "                    plot_sigmoid(x, y, ax1, max_top=max(y)*1.2)\n",
    "                else:\n",
    "                    g1 = sns.regplot(ax=ax1, data=conc_df[mask_rot], y='GFP/RFP', x=metab, lowess=True, scatter_kws=dict(alpha=0))\n",
    "            elif drug == 'met':\n",
    "                if metab_nam == 'Aspartate':\n",
    "                    y = conc_df.loc[mask_met, 'GFP/RFP']\n",
    "                    x = np.log10(conc_df.loc[mask_met, 'Aspartate neg'])\n",
    "                    plot_sigmoid(x, y, ax1, max_top=max(y)*1.2)\n",
    "                else:\n",
    "                    g1 = sns.regplot(ax=ax1, data=conc_df[mask_met], y='GFP/RFP', x=metab, lowess=True, scatter_kws=dict(alpha=0))\n",
    "\n",
    "            if drug == 'rot' or drug == 'both':\n",
    "                g2 = sns.scatterplot(ax=ax1, data=conc_df[mask_rot], y='GFP/RFP', x=metab, hue='conc_res', zorder=10, alpha=0.8, edgecolor='black', linewidth=0.7, legend=True, marker='X');\n",
    "            if drug == 'met' or drug == 'both':\n",
    "                g3 = sns.scatterplot(ax=ax1, data=conc_df[mask_met], y='GFP/RFP', x=metab, hue='conc_res', zorder=10, alpha=0.8, edgecolor='black', linewidth=0.7, legend=True, marker='d');\n",
    "\n",
    "\n",
    "            g2.set_xscale('log', base=10)\n",
    "            ax1.set_xscale('log', base=10)\n",
    "            g2.set_ylabel('GFP/RFP (AU)')\n",
    "            g2.set_xlabel('{} (µM)'.format(metab_nam))\n",
    "            g2.set_title('HT1080 Nuc-RFP Asp-sens')\n",
    "            #g2.set_xticklabels(g1.get_xticklabels(), rotation=90, size=12)\n",
    "\n",
    "            if drug == 'both':\n",
    "                sns.move_legend(g3, \"upper left\", bbox_to_anchor=(1.01, 1), frameon=True, ncol=2, \\\n",
    "                                alignment='center', labelspacing=0.3, handletextpad=0.2, borderaxespad=0, \\\n",
    "                                handlelength=1, title='Rot/Met (nM)')\n",
    "            elif drug == 'rot':\n",
    "                sns.move_legend(g2, \"upper left\", bbox_to_anchor=(1.01, 1), frameon=True, ncol=1, \\\n",
    "                                alignment='center', labelspacing=0.3, handletextpad=0.2, borderaxespad=0, \\\n",
    "                                handlelength=1, title='Rot (nM)')\n",
    "            elif drug == 'met':\n",
    "                sns.move_legend(g3, \"upper left\", bbox_to_anchor=(1.01, 1), frameon=True, ncol=1, \\\n",
    "                                alignment='center', labelspacing=0.3, handletextpad=0.2, borderaxespad=0, \\\n",
    "                                handlelength=1, title='Met (nM)')\n",
    "\n",
    "            ax1.tick_params(which=\"both\", bottom=True, labelrotation=25)\n",
    "\n",
    "            pp.savefig(fig, bbox_inches='tight')\n",
    "            plt.close(fig)"
   ]
  },
  {
   "cell_type": "code",
   "execution_count": null,
   "metadata": {},
   "outputs": [],
   "source": []
  },
  {
   "cell_type": "code",
   "execution_count": null,
   "metadata": {},
   "outputs": [],
   "source": []
  },
  {
   "cell_type": "markdown",
   "metadata": {},
   "source": [
    "### Plots for H1299"
   ]
  },
  {
   "cell_type": "code",
   "execution_count": 11,
   "metadata": {},
   "outputs": [
    {
     "name": "stderr",
     "output_type": "stream",
     "text": [
      "/Users/krdav/anaconda3/lib/python3.8/site-packages/statsmodels/nonparametric/smoothers_lowess.py:227: RuntimeWarning: invalid value encountered in divide\n",
      "  res, _ = _lowess(y, x, x, np.ones_like(x),\n"
     ]
    }
   ],
   "source": [
    "mask = (conc_df['Cell line'] == 'H1299 Nuc-RFP Asp-sens') & (conc_df['Drug'] != 'AOA') & (conc_df['Drug'] != 'Antimycin A')\n",
    "plot_order = natsorted(conc_df.loc[mask, 'conc_res'])\n",
    "\n",
    "metab_list = ['Aspartate neg', 'Asparagine pos', 'Glutamate neg', 'Glutamine pos', 'Rotenone pos', 'Metformin pos']\n",
    "with PdfPages('steady-state_plots/steady-state_H1299_Nuc-RFP_Asp-sens.pdf') as pp:\n",
    "    for metab in metab_list:\n",
    "        metab_nam = metab.split()[0]\n",
    "        for drug in ['rot', 'met', 'both']:\n",
    "            fig, ax1 = plt.subplots(1, 1, figsize=(4, 3))\n",
    "            mask_rot = mask & (conc_df['Drug'] == 'Rotenone')\n",
    "            mask_met = mask & (conc_df['Drug'] == 'Metformin')\n",
    "\n",
    "            if drug == 'both':\n",
    "                if metab_nam == 'Aspartate':\n",
    "                    y = conc_df.loc[mask, 'GFP/RFP']\n",
    "                    x = np.log10(conc_df.loc[mask, 'Aspartate neg'])\n",
    "                    plot_sigmoid(x, y, ax1, max_top=max(y)*1.2)\n",
    "                else:\n",
    "                    g1 = sns.regplot(ax=ax1, data=conc_df[mask], y='GFP/RFP', x=metab, lowess=True, scatter_kws=dict(alpha=0))\n",
    "            elif drug == 'rot':\n",
    "                if metab_nam == 'Aspartate':\n",
    "                    y = conc_df.loc[mask_rot, 'GFP/RFP']\n",
    "                    x = np.log10(conc_df.loc[mask_rot, 'Aspartate neg'])\n",
    "                    plot_sigmoid(x, y, ax1, max_top=max(y)*1.2)\n",
    "                else:\n",
    "                    g1 = sns.regplot(ax=ax1, data=conc_df[mask_rot], y='GFP/RFP', x=metab, lowess=True, scatter_kws=dict(alpha=0))\n",
    "            elif drug == 'met':\n",
    "                if metab_nam == 'Aspartate':\n",
    "                    y = conc_df.loc[mask_met, 'GFP/RFP']\n",
    "                    x = np.log10(conc_df.loc[mask_met, 'Aspartate neg'])\n",
    "                    plot_sigmoid(x, y, ax1, max_top=max(y)*1.2)\n",
    "                else:\n",
    "                    g1 = sns.regplot(ax=ax1, data=conc_df[mask_met], y='GFP/RFP', x=metab, lowess=True, scatter_kws=dict(alpha=0))\n",
    "\n",
    "            if drug == 'rot' or drug == 'both':\n",
    "                g2 = sns.scatterplot(ax=ax1, data=conc_df[mask_rot], y='GFP/RFP', x=metab, hue='conc_res', zorder=10, alpha=0.8, edgecolor='black', linewidth=0.7, legend=True, marker='X');\n",
    "            if drug == 'met' or drug == 'both':\n",
    "                g3 = sns.scatterplot(ax=ax1, data=conc_df[mask_met], y='GFP/RFP', x=metab, hue='conc_res', zorder=10, alpha=0.8, edgecolor='black', linewidth=0.7, legend=True, marker='d');\n",
    "\n",
    "\n",
    "            g2.set_xscale('log', base=10)\n",
    "            g2.set_ylabel('GFP/RFP (AU)')\n",
    "            g2.set_xlabel('{} (µM)'.format(metab_nam))\n",
    "            g2.set_title('H1299 Nuc-RFP Asp-sens')\n",
    "            #g2.set_xticklabels(g1.get_xticklabels(), rotation=90, size=12)\n",
    "\n",
    "            if drug == 'both':\n",
    "                sns.move_legend(g3, \"upper left\", bbox_to_anchor=(1.01, 1), frameon=True, ncol=2, \\\n",
    "                                alignment='center', labelspacing=0.3, handletextpad=0.2, borderaxespad=0, \\\n",
    "                                handlelength=1, title='Rot/Met (nM)')\n",
    "            elif drug == 'rot':\n",
    "                sns.move_legend(g2, \"upper left\", bbox_to_anchor=(1.01, 1), frameon=True, ncol=1, \\\n",
    "                                alignment='center', labelspacing=0.3, handletextpad=0.2, borderaxespad=0, \\\n",
    "                                handlelength=1, title='Rot (nM)')\n",
    "            elif drug == 'met':\n",
    "                sns.move_legend(g3, \"upper left\", bbox_to_anchor=(1.01, 1), frameon=True, ncol=1, \\\n",
    "                                alignment='center', labelspacing=0.3, handletextpad=0.2, borderaxespad=0, \\\n",
    "                                handlelength=1, title='Met (nM)')\n",
    "\n",
    "            ax1.tick_params(which=\"both\", bottom=True, labelrotation=25)\n",
    "\n",
    "            pp.savefig(fig, bbox_inches='tight')\n",
    "            plt.close(fig)"
   ]
  },
  {
   "cell_type": "code",
   "execution_count": null,
   "metadata": {},
   "outputs": [],
   "source": []
  },
  {
   "cell_type": "code",
   "execution_count": null,
   "metadata": {},
   "outputs": [],
   "source": []
  },
  {
   "cell_type": "markdown",
   "metadata": {},
   "source": [
    "### Plots for H1299 GOT DKO"
   ]
  },
  {
   "cell_type": "code",
   "execution_count": 12,
   "metadata": {},
   "outputs": [],
   "source": [
    "mask = conc_df['Cell line'] == 'H1299 GOT-DKO Nuc-RFP Asp-sens'\n",
    "plot_order = natsorted(conc_df.loc[mask, 'conc_res'])\n",
    "\n",
    "metab_list = ['Aspartate neg', 'Asparagine pos', 'Glutamate neg', 'Glutamine pos']\n",
    "with PdfPages('steady-state_plots/steady-state_H1299-GOT-DKO_Nuc-RFP_Asp-sens.pdf') as pp:\n",
    "    for metab in metab_list:\n",
    "        metab_nam = metab.split()[0]\n",
    "        fig, ax1 = plt.subplots(1, 1, figsize=(4, 3))\n",
    "        \n",
    "        \n",
    "        if metab_nam == 'Aspartate':\n",
    "            y = conc_df.loc[mask, 'GFP/RFP']\n",
    "            x = np.log10(conc_df.loc[mask, 'Aspartate neg'])\n",
    "            plot_sigmoid(x, y, ax1, max_top=max(y)*1.2)\n",
    "        else: \n",
    "            g1 = sns.regplot(ax=ax1, data=conc_df[mask], y='GFP/RFP', x=metab, lowess=True, scatter_kws=dict(alpha=0))\n",
    "        \n",
    "        g2 = sns.scatterplot(ax=ax1, data=conc_df[mask], y='GFP/RFP', x=metab, hue='conc_res', zorder=10, alpha=0.8, edgecolor='black', linewidth=0.7, legend=True);\n",
    "        g2.set_xscale('log', base=10)\n",
    "        g2.set_ylabel('GFP/RFP (AU)')\n",
    "        g2.set_xlabel('{} (µM)'.format(metab_nam))\n",
    "        g2.set_title('H1299 GOT DKO Nuc-RFP Asp-sens')\n",
    "        #g2.set_xticklabels(g1.get_xticklabels(), rotation=90, size=12)\n",
    "        sns.move_legend(g2, \"upper left\", bbox_to_anchor=(1.01, 1), frameon=True, ncol=1, \\\n",
    "                        alignment='center', labelspacing=0.3, handletextpad=0.2, borderaxespad=0, \\\n",
    "                        handlelength=1, title='Media Asp (nM)')\n",
    "\n",
    "        ax1.tick_params(which=\"both\", bottom=True, labelrotation=25)\n",
    "        pp.savefig(fig, bbox_inches='tight')\n",
    "        plt.close(fig)"
   ]
  },
  {
   "cell_type": "code",
   "execution_count": null,
   "metadata": {},
   "outputs": [],
   "source": []
  },
  {
   "cell_type": "code",
   "execution_count": null,
   "metadata": {},
   "outputs": [],
   "source": []
  },
  {
   "cell_type": "code",
   "execution_count": null,
   "metadata": {},
   "outputs": [],
   "source": []
  },
  {
   "cell_type": "code",
   "execution_count": null,
   "metadata": {},
   "outputs": [],
   "source": []
  },
  {
   "cell_type": "code",
   "execution_count": null,
   "metadata": {},
   "outputs": [],
   "source": []
  },
  {
   "cell_type": "code",
   "execution_count": null,
   "metadata": {},
   "outputs": [],
   "source": []
  },
  {
   "cell_type": "code",
   "execution_count": null,
   "metadata": {},
   "outputs": [],
   "source": []
  },
  {
   "cell_type": "code",
   "execution_count": null,
   "metadata": {},
   "outputs": [],
   "source": []
  },
  {
   "cell_type": "code",
   "execution_count": null,
   "metadata": {},
   "outputs": [],
   "source": []
  },
  {
   "cell_type": "code",
   "execution_count": null,
   "metadata": {},
   "outputs": [],
   "source": []
  }
 ],
 "metadata": {
  "kernelspec": {
   "display_name": "Python 3",
   "language": "python",
   "name": "python3"
  },
  "language_info": {
   "codemirror_mode": {
    "name": "ipython",
    "version": 3
   },
   "file_extension": ".py",
   "mimetype": "text/x-python",
   "name": "python",
   "nbconvert_exporter": "python",
   "pygments_lexer": "ipython3",
   "version": "3.8.5"
  }
 },
 "nbformat": 4,
 "nbformat_minor": 2
}
